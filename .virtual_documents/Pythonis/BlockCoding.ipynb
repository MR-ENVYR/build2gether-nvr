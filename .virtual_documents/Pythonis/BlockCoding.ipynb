# Imports
import serial
from datetime import datetime
from tkinter import *
from pynput.keyboard import Key, Controller, Listener
# import pyautogui as keypresser


# Printing the serial data for 5 seconds after opening
ser = serial.Serial(port="/dev/ttyUSB0", baudrate=115200)
serials = []
start = datetime.now()
while (datetime.now() - start).seconds < 10:
    x = ser.readline()
    print(x)
    serials.append(x)
ser.close()


# Serial data Processing functions
def splitprocess(split):
    "Processes each element in the "
    processed = split.strip().split(":")
    processed = [s.strip() for s in processed]
    return processed


def serProcess(serdata):
    """Process serial data one line at a time"""
    decoded = serdata.decode()
    splitted = decoded.replace("\n", "").split("\t")
    splitsmap = dict(map(splitprocess, splitted))
    act_keys = ["Roll", "Pitch", "Rbutt", "Bbutt"]
    if (len(splitsmap) > 4) or list(splitsmap.keys()) != act_keys:
        raise ValueError("Format incorrect!")
    return splitsmap


# Example loop for processing serial data
excepts = []
for serdata in serials:
    try:
        serProcessed = serProcess(serdata)
        print(serProcessed)
        excepts = []
    except Exception as e:
        print(f"Exception occurred in processing: {e}")
        excepts.append(e)
        if len(excepts) > 250:  # If data isn't proper for 5 seconds break
            break
        else:
            continue


# r = Tk()
# # frame = Frame(root)
# # frame.pack()

# root.title("Serial Translator")
# startbutton = Button(r, text="Start processing", width=25, command=)
# button = Button(r, text='Exit', width=25, command=r.destroy)
# button.pack()
# r.mainloop()


# Keyboard presses based on data
keypresser = Controller()

# Defining key maps for values
RollKeyMaps = {"flat": None, "left": Key.left, "right": Key.right}
PitchKeyMaps = {"flat": None, "front": Key.up, "back": Key.down}
RbuttMaps = {"No press": None, "Pressed": Key.shift}
BbuttMaps = {"No press": None, "Pressed": Key.space}


# Monitoring key presses
def on_press(key):
    if key == Key.tab:  # Exit program on press of tab
        print("pressed")
        # exit()
    else:
        pass

listener = Listener(on_press = on_press)
# listener.start()
# listener.stop()


# Serial data Processing functions
def splitprocess(split):
    "Processes each element in the "
    processed = split.strip().split(":")
    processed = [s.strip() for s in processed]
    return processed


def serProcess(serdata):
    """Process serial data one line at a time"""
    decoded = serdata.decode()
    splitted = decoded.replace("\n", "").split("\t")
    splitsmap = dict(map(splitprocess, splitted))
    act_keys = ["Roll", "Pitch", "Rbutt", "Bbutt"]
    if (len(splitsmap) > 4) or list(splitsmap.keys()) != act_keys:
        raise ValueError("Format incorrect!")
    return splitsmap


def on_press(key):
    global flag
    if key == Key.tab:  # Exit program on press of tab
        # print("pressed")
        flag = False


def mainloop():
    # Serial and loop defs
    ser = serial.Serial(port="/dev/ttyUSB0", baudrate=115200)
    flag = True

    # Keyboard defs
    keypresser = Controller()
    listener = Listener(on_press=on_press)
    listener.start()

    # Defining key maps for values
    RollKeyMaps = {'flat': None, 'left': Key.left, 'right': Key.right}
    PitchKeyMaps = {'flat': None, 'front': Key.up, 'back': Key.down}
    RbuttKeyMaps = {'No press': None, 'Pressed': Key.shift}
    BbuttKeyMaps = {'No press': None, 'Pressed': Key.space}
    # RollKeyMaps = {'flat': None, 'left': "left", 'right': "right"}
    # PitchKeyMaps = {'flat': None, 'front': "up", 'back': "down"}
    # RbuttKeyMaps = {'No press': None, 'Pressed': "shift"}
    # BbuttKeyMaps = {'No press': None, 'Pressed': "space"}

    while (flag):
        # processing serial data
        serData = ser.readline()
        excepts = []
        try:
            serProcessed = serProcess(serData)
            print(serProcessed)
            excepts = []
        except Exception as e:
            print(f"Exception occurred in processing: {e}")
            excepts.append(e)
            if len(excepts) > 250:  # If data isn't proper for 5 seconds break
                break
            else:
                continue
        # Doing key press
        rollKey = RollKeyMaps[serProcessed["Roll"]]
        pitchKey = PitchKeyMaps[serProcessed["Pitch"]]
        rButtKey = RbuttKeyMaps[serProcessed["Rbutt"]]
        bButtKey = BbuttKeyMaps[serProcessed["Bbutt"]]

        # print(rollState)

        if rollKey is not None:
            keypresser.press(rollKey)
            print("pressed")
        if pitchKey is not None:
            keypresser.press(pitchKey)
        if rButtKey is not None:
            keypresser.press(rButtKey)
        if bButtKey is not None:
            keypresser.press(bButtKey)

        # if rollKey is not None:
        #     keypresser.release(rollKey)
        # if pitchKey is not None:
        #     keypresser.release(pitchKey)
        # if rButtKey is not None:
        #     keypresser.release(rButtKey)
        # if bButtKey is not None:
        #     keypresser.release(bButtKey)

    # del keypresser
    listener.stop()
    ser.close()


mainloop()



